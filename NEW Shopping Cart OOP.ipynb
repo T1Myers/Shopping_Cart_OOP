{
 "cells": [
  {
   "cell_type": "code",
   "execution_count": 7,
   "id": "154ad074",
   "metadata": {
    "scrolled": false
   },
   "outputs": [
    {
     "name": "stdout",
     "output_type": "stream",
     "text": [
      "Your shopping cart contains the following items: \n",
      "apples: $1.25\n",
      "peaches: $1.50\n",
      "bananas: $1.00\n",
      "Your shopping cart contains the following items: \n",
      "limes: $2.00\n"
     ]
    }
   ],
   "source": [
    "from IPython.display import clear_output\n",
    "\n",
    "class Product:\n",
    "    def __init__(self, name, price):\n",
    "        self.name = name\n",
    "        self.price = price\n",
    "        \n",
    "class Cart:\n",
    "    def __init__(self):\n",
    "        self.cart = []\n",
    "        \n",
    "    def add_item(self, product):\n",
    "        self.cart.append(product)\n",
    "        \n",
    "    def remove_item(self, product):\n",
    "        if product in self.cart:\n",
    "            self.cart.remove(product)\n",
    "            \n",
    "    def show_cart(self):\n",
    "        print(\"Your shopping cart contains the following items: \")\n",
    "        for product in self.cart:\n",
    "            print(f\"{product.name}: {product.price}\")\n",
    "        \n",
    "        \n",
    "bananas = Product(\"bananas\", \"$1.00\")\n",
    "apples = Product(\"apples\", \"$1.25\")\n",
    "peaches = Product(\"peaches\", \"$1.50\")\n",
    "pears = Product(\"pears\", \"$1.75\")\n",
    "limes = Product(\"limes\", \"$2.00\")\n",
    "\n",
    "cart = Cart()\n",
    "\n",
    "cart.add_item(bananas)\n",
    "cart.add_item(apples)\n",
    "cart.add_item(peaches)\n",
    "cart.add_item(bananas)\n",
    "cart.remove_item(bananas)\n",
    "\n",
    "\n",
    "cart.show_cart()\n",
    "\n",
    "cart2 = Cart()\n",
    "cart2.add_item(limes)\n",
    "cart2.show_cart()"
   ]
  }
 ],
 "metadata": {
  "kernelspec": {
   "display_name": "Python 3",
   "language": "python",
   "name": "python3"
  },
  "language_info": {
   "codemirror_mode": {
    "name": "ipython",
    "version": 3
   },
   "file_extension": ".py",
   "mimetype": "text/x-python",
   "name": "python",
   "nbconvert_exporter": "python",
   "pygments_lexer": "ipython3",
   "version": "3.9.5"
  }
 },
 "nbformat": 4,
 "nbformat_minor": 5
}
