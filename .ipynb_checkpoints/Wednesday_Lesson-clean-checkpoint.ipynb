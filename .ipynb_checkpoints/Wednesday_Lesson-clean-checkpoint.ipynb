{
 "cells": [
  {
   "cell_type": "markdown",
   "metadata": {},
   "source": [
    "# Object-Oriented-Programming (OOP)"
   ]
  },
  {
   "cell_type": "markdown",
   "metadata": {},
   "source": [
    "## Tasks Today:\n",
    "\n",
    "1) <b>Creating a Class (Initializing/Declaring)</b> <br>\n",
    "2) <b>Using a Class (Instantiating)</b> <br>\n",
    " &nbsp;&nbsp;&nbsp;&nbsp; a) Creating One Instance <br>\n",
    " &nbsp;&nbsp;&nbsp;&nbsp; b) Creating Multiple Instances <br>\n",
    " &nbsp;&nbsp;&nbsp;&nbsp; c) In-Class Exercise #1 - Create a Class 'Car' and instantiate three different makes of cars <br>\n",
    "3) <b>The \\__init\\__() Method</b> <br>\n",
    " &nbsp;&nbsp;&nbsp;&nbsp; a) The 'self' Attribute <br>\n",
    "4) <b>Class Attributes</b> <br>\n",
    " &nbsp;&nbsp;&nbsp;&nbsp; a) Initializing Attributes <br>\n",
    " &nbsp;&nbsp;&nbsp;&nbsp; b) Setting an Attribute Outside of the \\__init\\__() Method <br>\n",
    " &nbsp;&nbsp;&nbsp;&nbsp; c) Setting Defaults for Attributes <br>\n",
    " &nbsp;&nbsp;&nbsp;&nbsp; d) Accessing Class Attributes <br>\n",
    " &nbsp;&nbsp;&nbsp;&nbsp; e) Changing Class Attributes <br>\n",
    " &nbsp;&nbsp;&nbsp;&nbsp; f) In-Class Exercise #2 - Add a color and wheels attribute to your 'Car' class <br>\n",
    "5) <b>Class Methods</b> <br>\n",
    " &nbsp;&nbsp;&nbsp;&nbsp; a) Creating <br>\n",
    " &nbsp;&nbsp;&nbsp;&nbsp; b) Calling <br>\n",
    " &nbsp;&nbsp;&nbsp;&nbsp; c) Modifying an Attribute's Value Through a Method <br>\n",
    " &nbsp;&nbsp;&nbsp;&nbsp; d) Incrementing an Attribute's Value Through a Method <br>\n",
    " &nbsp;&nbsp;&nbsp;&nbsp; e) In-Class Exercise #3 - Add a method that prints the cars color and wheel number, then call them <br>\n",
    "6) <b>Inheritance</b> <br>\n",
    " &nbsp;&nbsp;&nbsp;&nbsp; a) Syntax for Inheriting from a Parent Class <br>\n",
    " &nbsp;&nbsp;&nbsp;&nbsp; b) The \\__init\\__() Method for a Child Class (super()) <br>\n",
    " &nbsp;&nbsp;&nbsp;&nbsp; c) Defining Attributes and Methods for the Child Class <br>\n",
    " &nbsp;&nbsp;&nbsp;&nbsp; d) Method Overriding <br>\n",
    " &nbsp;&nbsp;&nbsp;&nbsp; e) In-Class Exercise #4 - Create a class 'Ford' that inherits from 'Car' class and initialize it as a Blue Ford Explorer with 4 wheels using the super() method <br>\n",
    "7) <b>Classes as Attributes</b> <br>\n",
    "8) <b>Exercises</b> <br>\n",
    " &nbsp;&nbsp;&nbsp;&nbsp; a) Exercise #1 - Turn the shopping cart program from yesterday into an object-oriented program <br>\n",
    " &nbsp;&nbsp;&nbsp;&nbsp; b) Exercise #2 - Create a ten by ten grid using a class called 'Grid'"
   ]
  },
  {
   "cell_type": "markdown",
   "metadata": {},
   "source": [
    "## Creating a Class (Initializing/Declaring)\n",
    "<p>When creating a class, function, or even a variable you are initializing that object. Initializing and Declaring occur at the same time in Python, whereas in lower level languages you have to declare an object before initializing it. This is the first step in the process of using a class.</p>"
   ]
  },
  {
   "cell_type": "code",
   "execution_count": null,
   "metadata": {},
   "outputs": [],
   "source": []
  },
  {
   "cell_type": "markdown",
   "metadata": {},
   "source": [
    "## Using a Class (Instantiating)\n",
    "<p>The process of creating a class is called <i>Instantiating</i>. Each time you create a variable of that type of class, it is referred to as an <i>Instance</i> of that class. This is the second step in the process of using a class.</p>"
   ]
  },
  {
   "cell_type": "markdown",
   "metadata": {},
   "source": [
    "##### Creating One Instance"
   ]
  },
  {
   "cell_type": "code",
   "execution_count": null,
   "metadata": {},
   "outputs": [],
   "source": []
  },
  {
   "cell_type": "markdown",
   "metadata": {},
   "source": [
    "##### Creating Multiple Instances"
   ]
  },
  {
   "cell_type": "code",
   "execution_count": null,
   "metadata": {},
   "outputs": [],
   "source": []
  },
  {
   "cell_type": "markdown",
   "metadata": {},
   "source": [
    "##### In-Class Exercise #1 - Create a Class 'Car' with 3 attributes (car, make, model) and Instantiate three different instances of cars"
   ]
  },
  {
   "cell_type": "code",
   "execution_count": null,
   "metadata": {},
   "outputs": [],
   "source": []
  },
  {
   "cell_type": "markdown",
   "metadata": {},
   "source": [
    "## The \\__init\\__() Method <br>\n",
    "<p>This method is used in almost every created class, and called only once upon the creation of the class instance. This method will initialize all variables needed for the object.</p>"
   ]
  },
  {
   "cell_type": "code",
   "execution_count": null,
   "metadata": {},
   "outputs": [],
   "source": []
  },
  {
   "cell_type": "markdown",
   "metadata": {},
   "source": [
    "##### The 'self' Attribute <br>\n",
    "<p>This attribute is required to keep track of specific instance's attributes. Without the self attribute, the program would not know how to reference or keep track of an instance's attributes.</p>"
   ]
  },
  {
   "cell_type": "code",
   "execution_count": null,
   "metadata": {},
   "outputs": [],
   "source": []
  },
  {
   "cell_type": "markdown",
   "metadata": {},
   "source": [
    "## Class Attributes <br>\n",
    "<p>While variables are inside of a class, they are referred to as attributes and not variables. When someone says 'attribute' you know they're speaking about a class. Attributes can be initialized through the init method, or outside of it.</p>"
   ]
  },
  {
   "cell_type": "code",
   "execution_count": null,
   "metadata": {},
   "outputs": [],
   "source": []
  },
  {
   "cell_type": "markdown",
   "metadata": {},
   "source": [
    "##### Initializing Attributes"
   ]
  },
  {
   "cell_type": "code",
   "execution_count": null,
   "metadata": {},
   "outputs": [],
   "source": []
  },
  {
   "cell_type": "markdown",
   "metadata": {},
   "source": [
    "##### Setting an Attribute Outside of the \\__init\\__() Method"
   ]
  },
  {
   "cell_type": "code",
   "execution_count": null,
   "metadata": {},
   "outputs": [],
   "source": []
  },
  {
   "cell_type": "markdown",
   "metadata": {},
   "source": [
    "##### Setting Defaults for Attributes"
   ]
  },
  {
   "cell_type": "code",
   "execution_count": null,
   "metadata": {},
   "outputs": [],
   "source": []
  },
  {
   "cell_type": "markdown",
   "metadata": {},
   "source": [
    "##### Accessing Class Attributes"
   ]
  },
  {
   "cell_type": "code",
   "execution_count": null,
   "metadata": {},
   "outputs": [],
   "source": []
  },
  {
   "cell_type": "markdown",
   "metadata": {},
   "source": [
    "##### Changing Class Attributes"
   ]
  },
  {
   "cell_type": "code",
   "execution_count": null,
   "metadata": {},
   "outputs": [],
   "source": []
  },
  {
   "cell_type": "markdown",
   "metadata": {},
   "source": [
    "##### In-Class Exercise #2 - Add a color and wheels attribute to your 'Car' class"
   ]
  },
  {
   "cell_type": "code",
   "execution_count": null,
   "metadata": {},
   "outputs": [],
   "source": []
  },
  {
   "cell_type": "markdown",
   "metadata": {},
   "source": [
    "## Class Methods <br>\n",
    "<p>While inside of a class, functions are referred to as 'methods'. If you hear someone mention methods, they're speaking about classes. Methods are essentially functions, but only callable on the instances of a class.</p>"
   ]
  },
  {
   "cell_type": "markdown",
   "metadata": {},
   "source": [
    "##### Creating"
   ]
  },
  {
   "cell_type": "code",
   "execution_count": null,
   "metadata": {},
   "outputs": [],
   "source": []
  },
  {
   "cell_type": "code",
   "execution_count": null,
   "metadata": {},
   "outputs": [],
   "source": []
  },
  {
   "cell_type": "markdown",
   "metadata": {},
   "source": [
    "##### Calling"
   ]
  },
  {
   "cell_type": "code",
   "execution_count": null,
   "metadata": {},
   "outputs": [],
   "source": []
  },
  {
   "cell_type": "markdown",
   "metadata": {},
   "source": [
    "##### Modifying an Attribute's Value Through a Method"
   ]
  },
  {
   "cell_type": "code",
   "execution_count": null,
   "metadata": {},
   "outputs": [],
   "source": []
  },
  {
   "cell_type": "markdown",
   "metadata": {},
   "source": [
    "##### Incrementing an Attribute's Value Through a Method"
   ]
  },
  {
   "cell_type": "code",
   "execution_count": null,
   "metadata": {},
   "outputs": [],
   "source": []
  },
  {
   "cell_type": "markdown",
   "metadata": {},
   "source": [
    "##### In-Class Exercise #3 - Add a method that prints the cars color and wheel number, then call them"
   ]
  },
  {
   "cell_type": "code",
   "execution_count": null,
   "metadata": {},
   "outputs": [],
   "source": []
  },
  {
   "cell_type": "markdown",
   "metadata": {},
   "source": [
    "## Inheritance <br>\n",
    "<p>You can create a child-parent relationship between two classes by using inheritance. What this allows you to do is have overriding methods, but also inherit traits from the parent class. Think of it as an actual parent and child, the child will inherit the parent's genes, as will the classes in OOP</p>"
   ]
  },
  {
   "cell_type": "markdown",
   "metadata": {},
   "source": [
    "##### Syntax for Inheriting from a Parent Class"
   ]
  },
  {
   "cell_type": "code",
   "execution_count": null,
   "metadata": {},
   "outputs": [],
   "source": []
  },
  {
   "cell_type": "markdown",
   "metadata": {},
   "source": [
    "##### The \\__init\\__() Method for a Child Class - super()"
   ]
  },
  {
   "cell_type": "code",
   "execution_count": null,
   "metadata": {},
   "outputs": [],
   "source": []
  },
  {
   "cell_type": "markdown",
   "metadata": {},
   "source": [
    "##### Defining Attributes and Methods for the Child Class"
   ]
  },
  {
   "cell_type": "code",
   "execution_count": null,
   "metadata": {},
   "outputs": [],
   "source": []
  },
  {
   "cell_type": "markdown",
   "metadata": {},
   "source": [
    "##### Method Overriding"
   ]
  },
  {
   "cell_type": "code",
   "execution_count": null,
   "metadata": {},
   "outputs": [],
   "source": []
  },
  {
   "cell_type": "markdown",
   "metadata": {},
   "source": [
    "##### In-Class Exercise #4 - Create a class 'Ford' that inherits from 'Car' class and initialize it as a Blue Ford Explorer with 4 wheels using the super() function"
   ]
  },
  {
   "cell_type": "code",
   "execution_count": null,
   "metadata": {},
   "outputs": [],
   "source": []
  },
  {
   "cell_type": "markdown",
   "metadata": {},
   "source": [
    "## Classes as Attributes <br>\n",
    "<p>Classes can also be used as attributes within another class. This is useful in situations where you need to keep variables locally stored, instead of globally stored.</p>"
   ]
  },
  {
   "cell_type": "code",
   "execution_count": null,
   "metadata": {},
   "outputs": [],
   "source": []
  },
  {
   "cell_type": "markdown",
   "metadata": {},
   "source": [
    "# Exercise"
   ]
  },
  {
   "cell_type": "markdown",
   "metadata": {},
   "source": [
    "### Turn the shopping cart program from yesterday into an object-oriented program"
   ]
  },
  {
   "cell_type": "code",
   "execution_count": 139,
   "metadata": {
    "scrolled": true
   },
   "outputs": [
    {
     "name": "stdout",
     "output_type": "stream",
     "text": [
      "========================================\n",
      "You have no items in your cart. \n",
      "========================================\n",
      "Total: $0.00\n",
      "Have a good day! Goodbye!\n"
     ]
    }
   ],
   "source": [
    "# DO NOT RUN THIS CELL!"
   ]
  },
  {
   "cell_type": "code",
   "execution_count": null,
   "metadata": {},
   "outputs": [],
   "source": [
    "# from IPython.display import clear_output\n",
    "\n",
    "# def show_instructions():\n",
    "#     print(\"\"\"Type 'add' to add product to your shopping cart.\n",
    "# Type 'quit' to exit shopping.\n",
    "# Type 'show' to list all of the groceries in your shopping cart\"\"\")\n",
    "\n",
    "# def shopping_cart():\n",
    "#     input(\"Welcome to my store! Press any key to continue \")\n",
    "    \n",
    "# def __str__():\n",
    "#     return f\"{fruit_choice}\"\n",
    "    \n",
    "# done = False\n",
    "# groceries = []\n",
    "    \n",
    "# while not done:\n",
    "#     clear_output()\n",
    "\n",
    "#     show_instructions()\n",
    "#     choice = input(\"What groceries would you like?\")\n",
    "        \n",
    "#     if choice == 'add':\n",
    "#             banana = int(input(\"How many bananas would you like? \"))\n",
    "#             apple = int(input(\"How many apples would you like? \"))\n",
    "#             peach = int(input(\"How many peaches would you like? \"))\n",
    "#             pear = int(input(\"How many pears would you like? \"))\n",
    "#             lime = int(input(\"How many limes would you like? \"))\n",
    "            \n",
    "#             fruit_choice = {\n",
    "#                 \"banana\": banana,\n",
    "#                 \"apple\": apple,\n",
    "#                 \"peach\": peach,\n",
    "#                 \"pear\": pear,\n",
    "#                 \"lime\": lime\n",
    "#             }\n",
    "            \n",
    "#             groceries.append(fruit_choice)\n",
    "# add cost after this work\n",
    "# class food:\n",
    "#     def __init__(self, item, quantity):\n",
    "#         self.item = item\n",
    "#         self.quantity = quantity\n",
    "        \n",
    "# item1 = food(\"banana\", \"3\")\n",
    "# item2 = food(\"apple\", \"3\")\n",
    "# item3 = food(\"peach\", \"3\")\n",
    "# item4 = food(\"pear\", \"3\")\n",
    "# item5 = food(\"lime\", \"3\")\n",
    "\n",
    "            \n",
    "#     elif choice == \"show\":\n",
    "#             for fruit in groceries:\n",
    "#                 str(fruit_choice())\n",
    "#              input(\"Press any key to continue\")\n",
    "            \n",
    "#     elif choice == \"quit\":\n",
    "#             confirm = input(\"Are you sure you want to quit shopping? Y/N \").lower()\n",
    "#             if confirm == 'y':\n",
    "#                 done = True\n",
    "#             elif confirm == \"n\":\n",
    "#                 continue\n",
    "        \n",
    "# shopping_cart()       "
   ]
  },
  {
   "cell_type": "markdown",
   "metadata": {},
   "source": [
    "from IPython.display import clear_output\n",
    "\n",
    "def shopping_cart():\n",
    "    input(\"Welcome to my store! Press any key to continue \")\n",
    "\n",
    "def show_instructions():\n",
    "    print(\"Type 'add' to add product to your shopping cart.  Type 'quit' to exit shopping. Type 'show' to list all of the groceries in your shopping cart.\")\n",
    "    \n",
    "show_instructions()\n",
    "\n",
    "class Cart:\n",
    "    def __init__(self):\n",
    "         self.total = {}\n",
    "         self.cart_total = 0      \n",
    "        \n",
    "    def add_item(self, item, quantity):\n",
    "        self.item = item\n",
    "        self.quantity = quantity\n",
    "        if item != None and int(input(quantity)) >= \"$1.00\":\n",
    "            self.total.update({item: quantity})\n",
    "        if quantity >= 1 and int(input(item.price)) >= \"$1.00\":  \n",
    "            self.cart_total += (quantity*item.price)\n",
    "       \n",
    "    def remove_item(self, item, quantity):\n",
    "        self.item = item\n",
    "        self.quantity = quantity\n",
    "        if product in self.cart:\n",
    "            self.cart[item] -= quantity\n",
    "            self.cart_total -= quantity*item.price\n",
    "    \n",
    "    def show_stuff(self):\n",
    "        for idx, i in enumerate(self.total):\n",
    "            print(f\"{idx+1}: {i.item}\")\n",
    "            \n",
    "class Product:\n",
    "    def __init__(self, item, price):\n",
    "        self.item = item\n",
    "        self.price = price\n",
    "\n",
    "\n",
    "def __str__():\n",
    "    return f\"{fruit_choice}\"\n",
    "\n",
    "done = False\n",
    "\n",
    "while not done:\n",
    "    clear_output()\n",
    "\n",
    "    show_instructions()\n",
    "    choice = input(\"What groceries would you like?\")\n",
    "\n",
    "    if choice == 'add':\n",
    "        banana = int(input(\"How many bananas would you like? \"))\n",
    "        apple = int(input(\"How many apples would you like? \"))\n",
    "        peach = int(input(\"How many peaches would you like? \"))\n",
    "        pear = int(input(\"How many pears would you like? \"))\n",
    "        lime = int(input(\"How many limes would you like? \"))\n",
    "        cart.append(fruit_choice)\n",
    "\n",
    "    elif choice == \"show\":\n",
    "            for fruit in cart:\n",
    "                print(fruit_choice)\n",
    "            input(\"Press any key to continue\")\n",
    "\n",
    "    elif choice == \"quit\":\n",
    "            confirm = input(\"Are you sure you want to quit shopping? Y/N \").lower()\n",
    "            if confirm == 'y':\n",
    "                done = True\n",
    "            elif confirm == \"n\":\n",
    "                continue\n",
    "\n",
    "shopping_cart()   "
   ]
  },
  {
   "cell_type": "code",
   "execution_count": null,
   "metadata": {},
   "outputs": [],
   "source": [
    "# Online Example I found that doesn't work.  ugh"
   ]
  },
  {
   "cell_type": "code",
   "execution_count": 27,
   "metadata": {},
   "outputs": [],
   "source": [
    "# item1 = Product(\"banana\", \"$1.00\")\n",
    "# item2 = Product(\"apple\", \"$2.00\")\n",
    "# item3 = Product(\"peach\", \"$1.50\")\n",
    "# item4 = Product(\"pear\", \"$1.00\")\n",
    "# item5 = Product(\"lime\", \"$3.00\")\n",
    "\n",
    "# cart = Cart()"
   ]
  }
 ],
 "metadata": {
  "kernelspec": {
   "display_name": "Python 3",
   "language": "python",
   "name": "python3"
  },
  "language_info": {
   "codemirror_mode": {
    "name": "ipython",
    "version": 3
   },
   "file_extension": ".py",
   "mimetype": "text/x-python",
   "name": "python",
   "nbconvert_exporter": "python",
   "pygments_lexer": "ipython3",
   "version": "3.9.5"
  }
 },
 "nbformat": 4,
 "nbformat_minor": 2
}
